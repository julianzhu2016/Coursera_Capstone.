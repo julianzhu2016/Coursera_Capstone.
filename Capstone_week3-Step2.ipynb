{
 "cells": [
  {
   "cell_type": "markdown",
   "metadata": {},
   "source": [
    "# Orignal requirement for this exercise: \n",
    "\n",
    "# Below is copied from task\n",
    "For this assignment, you will be required to explore and cluster the neighborhoods in Toronto.\n",
    "\n",
    "    Start by creating a new Notebook for this assignment.\n",
    "    Use the Notebook to build the code to scrape the following Wikipedia page, https://en.wikipedia.org/wiki/List_of_postal_codes_of_Canada:_M, in order to obtain the data that is in the table of postal codes and to transform the data into a pandas dataframe like the one shown below:\n",
    "\n",
    "3. To create the above dataframe:\n",
    "\n",
    "    The dataframe will consist of three columns: PostalCode, Borough, and Neighborhood\n",
    "    Only process the cells that have an assigned borough. Ignore cells with a borough that is Not assigned.\n",
    "    More than one neighborhood can exist in one postal code area. For example, in the table on the Wikipedia page, you will notice that M5A is listed twice and has two neighborhoods: Harbourfront and Regent Park. These two rows will be combined into one row with the neighborhoods separated with a comma as shown in row 11 in the above table.\n",
    "\n",
    "    If a cell has a borough but a Not assigned neighborhood, then the neighborhood will be the same as the borough. So for the 9th cell in the table on the Wikipedia page, the value of the Borough and the Neighborhood columns will be Queen's Park.\n",
    "    Clean your Notebook and add Markdown cells to explain your work and any assumptions you are making.\n",
    "    In the last cell of your notebook, use the .shape method to print the number of rows of your dataframe.\n",
    "\n",
    "4. Submit a link to your Notebook on your Github repository. (10 marks)\n",
    "\n",
    "Note: There are different website scraping libraries and packages in Python. One of the most common packages is BeautifulSoup. Here is the package's main documentation page: http://beautiful-soup-4.readthedocs.io/en/latest/\n",
    "\n",
    "The package is so popular that there is a plethora of tutorials and examples of how to use it. Here is a very good Youtube video on how to use the BeautifulSoup package: https://www.youtube.com/watch?v=ng2o98k983k\n",
    "\n",
    "Use the BeautifulSoup package or any other way you are comfortable with to transform the data in the table on the Wikipedia page into the above pandas dataframe\n",
    "\n",
    "# this notebook is for week 3 assignments."
   ]
  },
  {
   "cell_type": "code",
   "execution_count": null,
   "metadata": {},
   "outputs": [],
   "source": [
    "# enviroment setup\n",
    "import requests \n",
    "from bs4 import BeautifulSoup as bs\n",
    "import pandas as pd\n",
    "import numpy as np"
   ]
  },
  {
   "cell_type": "code",
   "execution_count": null,
   "metadata": {},
   "outputs": [],
   "source": [
    "URL = \"https://en.wikipedia.org/wiki/List_of_postal_codes_of_Canada:_M\"\n",
    "# print(URL)\n",
    "\n",
    "# get the URL for HTML parser via html_doc\n",
    "ret  = requests.get(URL)\n",
    "html_doc = bs(ret.content,'lxml')\n",
    "# print(html_doc)"
   ]
  },
  {
   "cell_type": "code",
   "execution_count": null,
   "metadata": {},
   "outputs": [],
   "source": [
    "# print(html_doc)  # for testing"
   ]
  },
  {
   "cell_type": "code",
   "execution_count": null,
   "metadata": {},
   "outputs": [],
   "source": [
    "table = html_doc.find('table')\n",
    "df = pd.read_html(str(table),header=0)[0]\n",
    "#df = df.drop(['Not assigned'], axis=0)  # requested by the task!\n",
    "df = df[df.Borough != 'Not assigned']\n",
    "df = pd.DataFrame(df.groupby(['Postcode','Borough'])['Neighbourhood'].apply(', '.join) )\n",
    "df = df.reset_index()\n",
    "print('verify that the \\'M5A\\'-case is correct : \\n{}\\n '.format(df[df.Postcode == 'M5A']))\n",
    "df.Neighbourhood[df.Neighbourhood == 'Not assigned'] = df.Borough\n",
    "print('verify the Neighbourhood \\'Not assigned\\' method:\\n{}\\n'.format(df[df.Borough == 'Queen\\'s Park']))\n",
    "df.head(12)"
   ]
  },
  {
   "cell_type": "code",
   "execution_count": null,
   "metadata": {},
   "outputs": [],
   "source": [
    "# housekeeping for display result\n",
    "print('Toronto summary : \\n There are {} unique Postcodes and {} Boroughs in DataFrame'.format(df.Postcode.unique().size,df.Borough.unique().size))"
   ]
  },
  {
   "cell_type": "code",
   "execution_count": null,
   "metadata": {},
   "outputs": [],
   "source": [
    "# get the df size\n",
    "df.shape"
   ]
  },
  {
   "cell_type": "code",
   "execution_count": null,
   "metadata": {},
   "outputs": [],
   "source": [
    "# directly use the csv file provided\n",
    "!wget -q -O 'tornoto_data.csv' http://cocl.us/Geospatial_data\n",
    "print('Tornoto Data downloaded!')"
   ]
  },
  {
   "cell_type": "code",
   "execution_count": null,
   "metadata": {},
   "outputs": [],
   "source": [
    "df_right = pd.read_csv('tornoto_data.csv')\n",
    "df_right.head()\n",
    "# df_right.shape  # 103 expected"
   ]
  },
  {
   "cell_type": "code",
   "execution_count": null,
   "metadata": {},
   "outputs": [],
   "source": [
    "# left join two df\n",
    "\n",
    "df_join = df.merge(df_right,left_on=\"Postcode\", right_on=\"Postal Code\",how='left')\n",
    "df_join.head()"
   ]
  },
  {
   "cell_type": "code",
   "execution_count": null,
   "metadata": {},
   "outputs": [],
   "source": [
    "df_final = df_join.drop(columns=['Postal Code'],axis=1)\n",
    "#df_final.shape\n",
    "\n",
    "df_final.set_index(['Postcode'])\n",
    "print(df_final.shape)\n",
    "df_final.head()"
   ]
  },
  {
   "cell_type": "code",
   "execution_count": null,
   "metadata": {},
   "outputs": [],
   "source": []
  }
 ],
 "metadata": {
  "kernelspec": {
   "display_name": "Python 3",
   "language": "python",
   "name": "python3"
  },
  "language_info": {
   "codemirror_mode": {
    "name": "ipython",
    "version": 3
   },
   "file_extension": ".py",
   "mimetype": "text/x-python",
   "name": "python",
   "nbconvert_exporter": "python",
   "pygments_lexer": "ipython3",
   "version": "3.6.8"
  }
 },
 "nbformat": 4,
 "nbformat_minor": 2
}
